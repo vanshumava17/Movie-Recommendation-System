{
 "cells": [
  {
   "cell_type": "code",
   "execution_count": 309,
   "id": "f25281af-5eb5-48c6-a468-008f722e80d7",
   "metadata": {},
   "outputs": [],
   "source": [
    "import numpy as np\n",
    "import pandas as pd"
   ]
  },
  {
   "cell_type": "code",
   "execution_count": 310,
   "id": "ecaafc6b-eb2e-49c9-af61-06f161afff03",
   "metadata": {},
   "outputs": [],
   "source": [
    "movies = pd.read_csv('DataSet/bollywood.csv')\n",
    "meta = pd.read_csv(\"DataSet/bollywood_meta.csv\")\n",
    "rating = pd.read_csv(\"DataSet/bollywood_ratings.csv\")\n",
    "actor = pd.read_csv(\"DataSet/bollywood_text.csv\")"
   ]
  },
  {
   "cell_type": "code",
   "execution_count": 311,
   "id": "67e7d17d-66b2-4b9f-9836-a402fbece8d5",
   "metadata": {},
   "outputs": [
    {
     "data": {
      "text/html": [
       "<div>\n",
       "<style scoped>\n",
       "    .dataframe tbody tr th:only-of-type {\n",
       "        vertical-align: middle;\n",
       "    }\n",
       "\n",
       "    .dataframe tbody tr th {\n",
       "        vertical-align: top;\n",
       "    }\n",
       "\n",
       "    .dataframe thead th {\n",
       "        text-align: right;\n",
       "    }\n",
       "</style>\n",
       "<table border=\"1\" class=\"dataframe\">\n",
       "  <thead>\n",
       "    <tr style=\"text-align: right;\">\n",
       "      <th></th>\n",
       "      <th>title</th>\n",
       "      <th>imdb_id</th>\n",
       "      <th>poster_path</th>\n",
       "      <th>wiki_link</th>\n",
       "    </tr>\n",
       "  </thead>\n",
       "  <tbody>\n",
       "    <tr>\n",
       "      <th>0</th>\n",
       "      <td>?: A Question Mark</td>\n",
       "      <td>tt2378057</td>\n",
       "      <td>NaN</td>\n",
       "      <td>https://en.wikipedia.org/wiki/%3F:_A_Question_...</td>\n",
       "    </tr>\n",
       "  </tbody>\n",
       "</table>\n",
       "</div>"
      ],
      "text/plain": [
       "                title    imdb_id poster_path  \\\n",
       "0  ?: A Question Mark  tt2378057         NaN   \n",
       "\n",
       "                                           wiki_link  \n",
       "0  https://en.wikipedia.org/wiki/%3F:_A_Question_...  "
      ]
     },
     "execution_count": 311,
     "metadata": {},
     "output_type": "execute_result"
    }
   ],
   "source": [
    "movies.head(1)"
   ]
  },
  {
   "cell_type": "code",
   "execution_count": 312,
   "id": "3f40f59d-a383-488c-99fc-3d467db31ac5",
   "metadata": {},
   "outputs": [
    {
     "data": {
      "text/html": [
       "<div>\n",
       "<style scoped>\n",
       "    .dataframe tbody tr th:only-of-type {\n",
       "        vertical-align: middle;\n",
       "    }\n",
       "\n",
       "    .dataframe tbody tr th {\n",
       "        vertical-align: top;\n",
       "    }\n",
       "\n",
       "    .dataframe thead th {\n",
       "        text-align: right;\n",
       "    }\n",
       "</style>\n",
       "<table border=\"1\" class=\"dataframe\">\n",
       "  <thead>\n",
       "    <tr style=\"text-align: right;\">\n",
       "      <th></th>\n",
       "      <th>imdb_id</th>\n",
       "      <th>title</th>\n",
       "      <th>year_of_release</th>\n",
       "      <th>runtime</th>\n",
       "      <th>genres</th>\n",
       "    </tr>\n",
       "  </thead>\n",
       "  <tbody>\n",
       "    <tr>\n",
       "      <th>0</th>\n",
       "      <td>tt0073707</td>\n",
       "      <td>Sholay</td>\n",
       "      <td>1975</td>\n",
       "      <td>198</td>\n",
       "      <td>Action|Adventure|Comedy</td>\n",
       "    </tr>\n",
       "  </tbody>\n",
       "</table>\n",
       "</div>"
      ],
      "text/plain": [
       "     imdb_id   title year_of_release runtime                   genres\n",
       "0  tt0073707  Sholay            1975     198  Action|Adventure|Comedy"
      ]
     },
     "execution_count": 312,
     "metadata": {},
     "output_type": "execute_result"
    }
   ],
   "source": [
    "meta.head(1)"
   ]
  },
  {
   "cell_type": "code",
   "execution_count": 313,
   "id": "d2d2c97c-4db5-4808-b39e-60a78be0960f",
   "metadata": {},
   "outputs": [
    {
     "data": {
      "text/html": [
       "<div>\n",
       "<style scoped>\n",
       "    .dataframe tbody tr th:only-of-type {\n",
       "        vertical-align: middle;\n",
       "    }\n",
       "\n",
       "    .dataframe tbody tr th {\n",
       "        vertical-align: top;\n",
       "    }\n",
       "\n",
       "    .dataframe thead th {\n",
       "        text-align: right;\n",
       "    }\n",
       "</style>\n",
       "<table border=\"1\" class=\"dataframe\">\n",
       "  <thead>\n",
       "    <tr style=\"text-align: right;\">\n",
       "      <th></th>\n",
       "      <th>imdb_id</th>\n",
       "      <th>imdb_rating</th>\n",
       "      <th>imdb_votes</th>\n",
       "    </tr>\n",
       "  </thead>\n",
       "  <tbody>\n",
       "    <tr>\n",
       "      <th>0</th>\n",
       "      <td>tt8291224</td>\n",
       "      <td>8.4</td>\n",
       "      <td>35112.0</td>\n",
       "    </tr>\n",
       "  </tbody>\n",
       "</table>\n",
       "</div>"
      ],
      "text/plain": [
       "     imdb_id  imdb_rating  imdb_votes\n",
       "0  tt8291224          8.4     35112.0"
      ]
     },
     "execution_count": 313,
     "metadata": {},
     "output_type": "execute_result"
    }
   ],
   "source": [
    "rating.head(1)"
   ]
  },
  {
   "cell_type": "code",
   "execution_count": 314,
   "id": "487a621d-f5e4-4a10-8c6c-7a744957bac2",
   "metadata": {},
   "outputs": [
    {
     "data": {
      "text/html": [
       "<div>\n",
       "<style scoped>\n",
       "    .dataframe tbody tr th:only-of-type {\n",
       "        vertical-align: middle;\n",
       "    }\n",
       "\n",
       "    .dataframe tbody tr th {\n",
       "        vertical-align: top;\n",
       "    }\n",
       "\n",
       "    .dataframe thead th {\n",
       "        text-align: right;\n",
       "    }\n",
       "</style>\n",
       "<table border=\"1\" class=\"dataframe\">\n",
       "  <thead>\n",
       "    <tr style=\"text-align: right;\">\n",
       "      <th></th>\n",
       "      <th>imdb_id</th>\n",
       "      <th>summary</th>\n",
       "      <th>actors</th>\n",
       "      <th>release_date</th>\n",
       "    </tr>\n",
       "  </thead>\n",
       "  <tbody>\n",
       "    <tr>\n",
       "      <th>0</th>\n",
       "      <td>tt5013008</td>\n",
       "      <td>Fraud Saiyyan is the story of a con artist in ...</td>\n",
       "      <td>Arshad Warsi|Saurabh Shukla|Flora Saini|Sara L...</td>\n",
       "      <td>18 January 2019 (India)</td>\n",
       "    </tr>\n",
       "  </tbody>\n",
       "</table>\n",
       "</div>"
      ],
      "text/plain": [
       "     imdb_id                                            summary  \\\n",
       "0  tt5013008  Fraud Saiyyan is the story of a con artist in ...   \n",
       "\n",
       "                                              actors             release_date  \n",
       "0  Arshad Warsi|Saurabh Shukla|Flora Saini|Sara L...  18 January 2019 (India)  "
      ]
     },
     "execution_count": 314,
     "metadata": {},
     "output_type": "execute_result"
    }
   ],
   "source": [
    "actor.head(1)"
   ]
  },
  {
   "cell_type": "code",
   "execution_count": 315,
   "id": "0fd93c42-8355-47c5-bf90-046172b6cde2",
   "metadata": {},
   "outputs": [
    {
     "data": {
      "text/plain": [
       "(4675, 13)"
      ]
     },
     "execution_count": 315,
     "metadata": {},
     "output_type": "execute_result"
    }
   ],
   "source": [
    "movies = movies.merge(meta,on=\"imdb_id\")\n",
    "movies = movies.merge(rating,on=\"imdb_id\")\n",
    "movies = movies.merge(actor,on=\"imdb_id\")\n",
    "movies.shape"
   ]
  },
  {
   "cell_type": "code",
   "execution_count": 316,
   "id": "a03ab505-1e8f-4517-9dd7-54267f1c33d2",
   "metadata": {},
   "outputs": [
    {
     "data": {
      "text/html": [
       "<div>\n",
       "<style scoped>\n",
       "    .dataframe tbody tr th:only-of-type {\n",
       "        vertical-align: middle;\n",
       "    }\n",
       "\n",
       "    .dataframe tbody tr th {\n",
       "        vertical-align: top;\n",
       "    }\n",
       "\n",
       "    .dataframe thead th {\n",
       "        text-align: right;\n",
       "    }\n",
       "</style>\n",
       "<table border=\"1\" class=\"dataframe\">\n",
       "  <thead>\n",
       "    <tr style=\"text-align: right;\">\n",
       "      <th></th>\n",
       "      <th>title_x</th>\n",
       "      <th>imdb_id</th>\n",
       "      <th>poster_path</th>\n",
       "      <th>wiki_link</th>\n",
       "      <th>title_y</th>\n",
       "      <th>year_of_release</th>\n",
       "      <th>runtime</th>\n",
       "      <th>genres</th>\n",
       "      <th>imdb_rating</th>\n",
       "      <th>imdb_votes</th>\n",
       "      <th>summary</th>\n",
       "      <th>actors</th>\n",
       "      <th>release_date</th>\n",
       "    </tr>\n",
       "  </thead>\n",
       "  <tbody>\n",
       "    <tr>\n",
       "      <th>0</th>\n",
       "      <td>?: A Question Mark</td>\n",
       "      <td>tt2378057</td>\n",
       "      <td>NaN</td>\n",
       "      <td>https://en.wikipedia.org/wiki/%3F:_A_Question_...</td>\n",
       "      <td>?: A Question Mark</td>\n",
       "      <td>2012</td>\n",
       "      <td>82</td>\n",
       "      <td>Horror|Mystery|Thriller</td>\n",
       "      <td>5.5</td>\n",
       "      <td>285.0</td>\n",
       "      <td>A group of friends went to shoot their film pr...</td>\n",
       "      <td>Kiran Bhatia|Yaman Chatwal|Maanvi Gagroo|Chira...</td>\n",
       "      <td>17 February 2012 (India)</td>\n",
       "    </tr>\n",
       "    <tr>\n",
       "      <th>1</th>\n",
       "      <td>100 Days (1991 film)</td>\n",
       "      <td>tt0101244</td>\n",
       "      <td>https://upload.wikimedia.org/wikipedia/en/thum...</td>\n",
       "      <td>https://en.wikipedia.org/wiki/100_Days_(1991_f...</td>\n",
       "      <td>100 Days</td>\n",
       "      <td>1991</td>\n",
       "      <td>161</td>\n",
       "      <td>Horror|Romance|Thriller</td>\n",
       "      <td>6.6</td>\n",
       "      <td>818.0</td>\n",
       "      <td>A young  clairvoyant woman has a vision of a m...</td>\n",
       "      <td>Jackie Shroff|Madhuri Dixit|Javed Jaffrey|Laxm...</td>\n",
       "      <td>31 May 1991 (India)</td>\n",
       "    </tr>\n",
       "    <tr>\n",
       "      <th>2</th>\n",
       "      <td>12 O'Clock (film)</td>\n",
       "      <td>tt0051335</td>\n",
       "      <td>https://upload.wikimedia.org/wikipedia/en/thum...</td>\n",
       "      <td>https://en.wikipedia.org/wiki/12_O%27Clock_(19...</td>\n",
       "      <td>12 O'Clock</td>\n",
       "      <td>1958</td>\n",
       "      <td>132</td>\n",
       "      <td>Drama|Mystery|Thriller</td>\n",
       "      <td>7.0</td>\n",
       "      <td>52.0</td>\n",
       "      <td>Bani Chowdhury and solicitor Ajoy Kumar are de...</td>\n",
       "      <td>Guru Dutt|Waheeda Rehman|Shashikala|Rehman|Joh...</td>\n",
       "      <td>1 January 1958 (India)</td>\n",
       "    </tr>\n",
       "    <tr>\n",
       "      <th>3</th>\n",
       "      <td>16 December (film)</td>\n",
       "      <td>tt0313844</td>\n",
       "      <td>https://upload.wikimedia.org/wikipedia/en/thum...</td>\n",
       "      <td>https://en.wikipedia.org/wiki/16_December_(film)</td>\n",
       "      <td>16-Dec</td>\n",
       "      <td>2002</td>\n",
       "      <td>158</td>\n",
       "      <td>Action|Thriller</td>\n",
       "      <td>6.9</td>\n",
       "      <td>1091.0</td>\n",
       "      <td>Indian intelligence agents race against time t...</td>\n",
       "      <td>Danny Denzongpa|Gulshan Grover|Milind Soman|Di...</td>\n",
       "      <td>22 March 2002 (India)</td>\n",
       "    </tr>\n",
       "    <tr>\n",
       "      <th>4</th>\n",
       "      <td>1920 (film)</td>\n",
       "      <td>tt1301698</td>\n",
       "      <td>https://upload.wikimedia.org/wikipedia/en/thum...</td>\n",
       "      <td>https://en.wikipedia.org/wiki/1920_(film)</td>\n",
       "      <td>1920</td>\n",
       "      <td>2008</td>\n",
       "      <td>138</td>\n",
       "      <td>Horror|Mystery|Romance</td>\n",
       "      <td>6.4</td>\n",
       "      <td>2588.0</td>\n",
       "      <td>After forsaking his family and religion  a hus...</td>\n",
       "      <td>Rajniesh Duggall|Adah Sharma|Anjori Alagh|Raj ...</td>\n",
       "      <td>12 September 2008 (India)</td>\n",
       "    </tr>\n",
       "  </tbody>\n",
       "</table>\n",
       "</div>"
      ],
      "text/plain": [
       "                title_x    imdb_id  \\\n",
       "0    ?: A Question Mark  tt2378057   \n",
       "1  100 Days (1991 film)  tt0101244   \n",
       "2     12 O'Clock (film)  tt0051335   \n",
       "3    16 December (film)  tt0313844   \n",
       "4           1920 (film)  tt1301698   \n",
       "\n",
       "                                         poster_path  \\\n",
       "0                                                NaN   \n",
       "1  https://upload.wikimedia.org/wikipedia/en/thum...   \n",
       "2  https://upload.wikimedia.org/wikipedia/en/thum...   \n",
       "3  https://upload.wikimedia.org/wikipedia/en/thum...   \n",
       "4  https://upload.wikimedia.org/wikipedia/en/thum...   \n",
       "\n",
       "                                           wiki_link             title_y  \\\n",
       "0  https://en.wikipedia.org/wiki/%3F:_A_Question_...  ?: A Question Mark   \n",
       "1  https://en.wikipedia.org/wiki/100_Days_(1991_f...            100 Days   \n",
       "2  https://en.wikipedia.org/wiki/12_O%27Clock_(19...          12 O'Clock   \n",
       "3   https://en.wikipedia.org/wiki/16_December_(film)              16-Dec   \n",
       "4          https://en.wikipedia.org/wiki/1920_(film)                1920   \n",
       "\n",
       "  year_of_release runtime                   genres  imdb_rating  imdb_votes  \\\n",
       "0            2012      82  Horror|Mystery|Thriller          5.5       285.0   \n",
       "1            1991     161  Horror|Romance|Thriller          6.6       818.0   \n",
       "2            1958     132   Drama|Mystery|Thriller          7.0        52.0   \n",
       "3            2002     158          Action|Thriller          6.9      1091.0   \n",
       "4            2008     138   Horror|Mystery|Romance          6.4      2588.0   \n",
       "\n",
       "                                             summary  \\\n",
       "0  A group of friends went to shoot their film pr...   \n",
       "1  A young  clairvoyant woman has a vision of a m...   \n",
       "2  Bani Chowdhury and solicitor Ajoy Kumar are de...   \n",
       "3  Indian intelligence agents race against time t...   \n",
       "4  After forsaking his family and religion  a hus...   \n",
       "\n",
       "                                              actors  \\\n",
       "0  Kiran Bhatia|Yaman Chatwal|Maanvi Gagroo|Chira...   \n",
       "1  Jackie Shroff|Madhuri Dixit|Javed Jaffrey|Laxm...   \n",
       "2  Guru Dutt|Waheeda Rehman|Shashikala|Rehman|Joh...   \n",
       "3  Danny Denzongpa|Gulshan Grover|Milind Soman|Di...   \n",
       "4  Rajniesh Duggall|Adah Sharma|Anjori Alagh|Raj ...   \n",
       "\n",
       "                release_date  \n",
       "0   17 February 2012 (India)  \n",
       "1        31 May 1991 (India)  \n",
       "2     1 January 1958 (India)  \n",
       "3      22 March 2002 (India)  \n",
       "4  12 September 2008 (India)  "
      ]
     },
     "execution_count": 316,
     "metadata": {},
     "output_type": "execute_result"
    }
   ],
   "source": [
    "movies.head()"
   ]
  },
  {
   "cell_type": "code",
   "execution_count": 317,
   "id": "94eab5ab-f6a0-471e-93e2-4154c85a1d92",
   "metadata": {},
   "outputs": [],
   "source": [
    "# movies.info()"
   ]
  },
  {
   "cell_type": "code",
   "execution_count": 318,
   "id": "bdd28cb0-defe-482d-8f05-dc8be54c3083",
   "metadata": {},
   "outputs": [],
   "source": [
    "movies = movies[['imdb_id','title_x','genres','actors','year_of_release','imdb_rating','runtime','poster_path']]"
   ]
  },
  {
   "cell_type": "code",
   "execution_count": 319,
   "id": "6cbd1cf0-c1bd-4061-969a-14d2aef88808",
   "metadata": {},
   "outputs": [
    {
     "data": {
      "text/html": [
       "<div>\n",
       "<style scoped>\n",
       "    .dataframe tbody tr th:only-of-type {\n",
       "        vertical-align: middle;\n",
       "    }\n",
       "\n",
       "    .dataframe tbody tr th {\n",
       "        vertical-align: top;\n",
       "    }\n",
       "\n",
       "    .dataframe thead th {\n",
       "        text-align: right;\n",
       "    }\n",
       "</style>\n",
       "<table border=\"1\" class=\"dataframe\">\n",
       "  <thead>\n",
       "    <tr style=\"text-align: right;\">\n",
       "      <th></th>\n",
       "      <th>imdb_id</th>\n",
       "      <th>title_x</th>\n",
       "      <th>genres</th>\n",
       "      <th>actors</th>\n",
       "      <th>year_of_release</th>\n",
       "      <th>imdb_rating</th>\n",
       "      <th>runtime</th>\n",
       "      <th>poster_path</th>\n",
       "    </tr>\n",
       "  </thead>\n",
       "  <tbody>\n",
       "    <tr>\n",
       "      <th>0</th>\n",
       "      <td>tt2378057</td>\n",
       "      <td>?: A Question Mark</td>\n",
       "      <td>Horror|Mystery|Thriller</td>\n",
       "      <td>Kiran Bhatia|Yaman Chatwal|Maanvi Gagroo|Chira...</td>\n",
       "      <td>2012</td>\n",
       "      <td>5.5</td>\n",
       "      <td>82</td>\n",
       "      <td>NaN</td>\n",
       "    </tr>\n",
       "    <tr>\n",
       "      <th>1</th>\n",
       "      <td>tt0101244</td>\n",
       "      <td>100 Days (1991 film)</td>\n",
       "      <td>Horror|Romance|Thriller</td>\n",
       "      <td>Jackie Shroff|Madhuri Dixit|Javed Jaffrey|Laxm...</td>\n",
       "      <td>1991</td>\n",
       "      <td>6.6</td>\n",
       "      <td>161</td>\n",
       "      <td>https://upload.wikimedia.org/wikipedia/en/thum...</td>\n",
       "    </tr>\n",
       "    <tr>\n",
       "      <th>2</th>\n",
       "      <td>tt0051335</td>\n",
       "      <td>12 O'Clock (film)</td>\n",
       "      <td>Drama|Mystery|Thriller</td>\n",
       "      <td>Guru Dutt|Waheeda Rehman|Shashikala|Rehman|Joh...</td>\n",
       "      <td>1958</td>\n",
       "      <td>7.0</td>\n",
       "      <td>132</td>\n",
       "      <td>https://upload.wikimedia.org/wikipedia/en/thum...</td>\n",
       "    </tr>\n",
       "    <tr>\n",
       "      <th>3</th>\n",
       "      <td>tt0313844</td>\n",
       "      <td>16 December (film)</td>\n",
       "      <td>Action|Thriller</td>\n",
       "      <td>Danny Denzongpa|Gulshan Grover|Milind Soman|Di...</td>\n",
       "      <td>2002</td>\n",
       "      <td>6.9</td>\n",
       "      <td>158</td>\n",
       "      <td>https://upload.wikimedia.org/wikipedia/en/thum...</td>\n",
       "    </tr>\n",
       "    <tr>\n",
       "      <th>4</th>\n",
       "      <td>tt1301698</td>\n",
       "      <td>1920 (film)</td>\n",
       "      <td>Horror|Mystery|Romance</td>\n",
       "      <td>Rajniesh Duggall|Adah Sharma|Anjori Alagh|Raj ...</td>\n",
       "      <td>2008</td>\n",
       "      <td>6.4</td>\n",
       "      <td>138</td>\n",
       "      <td>https://upload.wikimedia.org/wikipedia/en/thum...</td>\n",
       "    </tr>\n",
       "  </tbody>\n",
       "</table>\n",
       "</div>"
      ],
      "text/plain": [
       "     imdb_id               title_x                   genres  \\\n",
       "0  tt2378057    ?: A Question Mark  Horror|Mystery|Thriller   \n",
       "1  tt0101244  100 Days (1991 film)  Horror|Romance|Thriller   \n",
       "2  tt0051335     12 O'Clock (film)   Drama|Mystery|Thriller   \n",
       "3  tt0313844    16 December (film)          Action|Thriller   \n",
       "4  tt1301698           1920 (film)   Horror|Mystery|Romance   \n",
       "\n",
       "                                              actors year_of_release  \\\n",
       "0  Kiran Bhatia|Yaman Chatwal|Maanvi Gagroo|Chira...            2012   \n",
       "1  Jackie Shroff|Madhuri Dixit|Javed Jaffrey|Laxm...            1991   \n",
       "2  Guru Dutt|Waheeda Rehman|Shashikala|Rehman|Joh...            1958   \n",
       "3  Danny Denzongpa|Gulshan Grover|Milind Soman|Di...            2002   \n",
       "4  Rajniesh Duggall|Adah Sharma|Anjori Alagh|Raj ...            2008   \n",
       "\n",
       "   imdb_rating runtime                                        poster_path  \n",
       "0          5.5      82                                                NaN  \n",
       "1          6.6     161  https://upload.wikimedia.org/wikipedia/en/thum...  \n",
       "2          7.0     132  https://upload.wikimedia.org/wikipedia/en/thum...  \n",
       "3          6.9     158  https://upload.wikimedia.org/wikipedia/en/thum...  \n",
       "4          6.4     138  https://upload.wikimedia.org/wikipedia/en/thum...  "
      ]
     },
     "execution_count": 319,
     "metadata": {},
     "output_type": "execute_result"
    }
   ],
   "source": [
    "movies.head()"
   ]
  },
  {
   "cell_type": "code",
   "execution_count": 320,
   "id": "e0f98249-ab08-47c9-a2b5-a6624461c134",
   "metadata": {},
   "outputs": [],
   "source": [
    "# movies = movies.reset_index(inplace=True, drop=True)"
   ]
  },
  {
   "cell_type": "code",
   "execution_count": 321,
   "id": "e24d10e2-083d-4454-95db-e6b3074f2b74",
   "metadata": {},
   "outputs": [],
   "source": [
    "# movies.head()"
   ]
  },
  {
   "cell_type": "code",
   "execution_count": 322,
   "id": "17cd7f43-cdd9-4c09-b60c-9be51dccd94e",
   "metadata": {},
   "outputs": [
    {
     "data": {
      "text/plain": [
       "imdb_id              0\n",
       "title_x              0\n",
       "genres               0\n",
       "actors              10\n",
       "year_of_release      0\n",
       "imdb_rating         13\n",
       "runtime              0\n",
       "poster_path        759\n",
       "dtype: int64"
      ]
     },
     "execution_count": 322,
     "metadata": {},
     "output_type": "execute_result"
    }
   ],
   "source": [
    "movies.isnull().sum()"
   ]
  },
  {
   "cell_type": "code",
   "execution_count": 323,
   "id": "4ddf03bf-8c47-41b6-aad8-e132784450eb",
   "metadata": {},
   "outputs": [],
   "source": [
    "movies.dropna(inplace=True)"
   ]
  },
  {
   "cell_type": "code",
   "execution_count": 324,
   "id": "cd8027e3-8653-4593-92a1-c3fc2fc0f865",
   "metadata": {},
   "outputs": [
    {
     "data": {
      "text/plain": [
       "imdb_id            0\n",
       "title_x            0\n",
       "genres             0\n",
       "actors             0\n",
       "year_of_release    0\n",
       "imdb_rating        0\n",
       "runtime            0\n",
       "poster_path        0\n",
       "dtype: int64"
      ]
     },
     "execution_count": 324,
     "metadata": {},
     "output_type": "execute_result"
    }
   ],
   "source": [
    "movies.isnull().sum()"
   ]
  },
  {
   "cell_type": "code",
   "execution_count": 325,
   "id": "427c7da5-a1bd-48f2-9262-27922124131e",
   "metadata": {},
   "outputs": [
    {
     "data": {
      "text/plain": [
       "377"
      ]
     },
     "execution_count": 325,
     "metadata": {},
     "output_type": "execute_result"
    }
   ],
   "source": [
    "movies.duplicated().sum()"
   ]
  },
  {
   "cell_type": "code",
   "execution_count": 326,
   "id": "e8eec11c-8212-4091-b8d7-9dc2f18c5a3a",
   "metadata": {},
   "outputs": [],
   "source": [
    "movies.drop_duplicates(inplace=True)"
   ]
  },
  {
   "cell_type": "code",
   "execution_count": 327,
   "id": "922c6974-e541-4836-b61d-9b130d4a1be6",
   "metadata": {},
   "outputs": [
    {
     "data": {
      "text/plain": [
       "0"
      ]
     },
     "execution_count": 327,
     "metadata": {},
     "output_type": "execute_result"
    }
   ],
   "source": [
    "movies.duplicated().sum()"
   ]
  },
  {
   "cell_type": "code",
   "execution_count": 328,
   "id": "9af74396-6cbc-439c-ae97-dc388928e355",
   "metadata": {},
   "outputs": [
    {
     "data": {
      "text/html": [
       "<div>\n",
       "<style scoped>\n",
       "    .dataframe tbody tr th:only-of-type {\n",
       "        vertical-align: middle;\n",
       "    }\n",
       "\n",
       "    .dataframe tbody tr th {\n",
       "        vertical-align: top;\n",
       "    }\n",
       "\n",
       "    .dataframe thead th {\n",
       "        text-align: right;\n",
       "    }\n",
       "</style>\n",
       "<table border=\"1\" class=\"dataframe\">\n",
       "  <thead>\n",
       "    <tr style=\"text-align: right;\">\n",
       "      <th></th>\n",
       "      <th>imdb_id</th>\n",
       "      <th>title_x</th>\n",
       "      <th>genres</th>\n",
       "      <th>actors</th>\n",
       "      <th>year_of_release</th>\n",
       "      <th>imdb_rating</th>\n",
       "      <th>runtime</th>\n",
       "      <th>poster_path</th>\n",
       "    </tr>\n",
       "  </thead>\n",
       "  <tbody>\n",
       "    <tr>\n",
       "      <th>1</th>\n",
       "      <td>tt0101244</td>\n",
       "      <td>100 Days (1991 film)</td>\n",
       "      <td>Horror|Romance|Thriller</td>\n",
       "      <td>Jackie Shroff|Madhuri Dixit|Javed Jaffrey|Laxm...</td>\n",
       "      <td>1991</td>\n",
       "      <td>6.6</td>\n",
       "      <td>161</td>\n",
       "      <td>https://upload.wikimedia.org/wikipedia/en/thum...</td>\n",
       "    </tr>\n",
       "    <tr>\n",
       "      <th>2</th>\n",
       "      <td>tt0051335</td>\n",
       "      <td>12 O'Clock (film)</td>\n",
       "      <td>Drama|Mystery|Thriller</td>\n",
       "      <td>Guru Dutt|Waheeda Rehman|Shashikala|Rehman|Joh...</td>\n",
       "      <td>1958</td>\n",
       "      <td>7.0</td>\n",
       "      <td>132</td>\n",
       "      <td>https://upload.wikimedia.org/wikipedia/en/thum...</td>\n",
       "    </tr>\n",
       "    <tr>\n",
       "      <th>3</th>\n",
       "      <td>tt0313844</td>\n",
       "      <td>16 December (film)</td>\n",
       "      <td>Action|Thriller</td>\n",
       "      <td>Danny Denzongpa|Gulshan Grover|Milind Soman|Di...</td>\n",
       "      <td>2002</td>\n",
       "      <td>6.9</td>\n",
       "      <td>158</td>\n",
       "      <td>https://upload.wikimedia.org/wikipedia/en/thum...</td>\n",
       "    </tr>\n",
       "    <tr>\n",
       "      <th>4</th>\n",
       "      <td>tt1301698</td>\n",
       "      <td>1920 (film)</td>\n",
       "      <td>Horror|Mystery|Romance</td>\n",
       "      <td>Rajniesh Duggall|Adah Sharma|Anjori Alagh|Raj ...</td>\n",
       "      <td>2008</td>\n",
       "      <td>6.4</td>\n",
       "      <td>138</td>\n",
       "      <td>https://upload.wikimedia.org/wikipedia/en/thum...</td>\n",
       "    </tr>\n",
       "    <tr>\n",
       "      <th>5</th>\n",
       "      <td>tt5638500</td>\n",
       "      <td>1920: London</td>\n",
       "      <td>Horror|Mystery</td>\n",
       "      <td>Sharman Joshi|Meera Chopra|Vishal Karwal|Suren...</td>\n",
       "      <td>2016</td>\n",
       "      <td>4.1</td>\n",
       "      <td>120</td>\n",
       "      <td>https://upload.wikimedia.org/wikipedia/en/thum...</td>\n",
       "    </tr>\n",
       "  </tbody>\n",
       "</table>\n",
       "</div>"
      ],
      "text/plain": [
       "     imdb_id               title_x                   genres  \\\n",
       "1  tt0101244  100 Days (1991 film)  Horror|Romance|Thriller   \n",
       "2  tt0051335     12 O'Clock (film)   Drama|Mystery|Thriller   \n",
       "3  tt0313844    16 December (film)          Action|Thriller   \n",
       "4  tt1301698           1920 (film)   Horror|Mystery|Romance   \n",
       "5  tt5638500          1920: London           Horror|Mystery   \n",
       "\n",
       "                                              actors year_of_release  \\\n",
       "1  Jackie Shroff|Madhuri Dixit|Javed Jaffrey|Laxm...            1991   \n",
       "2  Guru Dutt|Waheeda Rehman|Shashikala|Rehman|Joh...            1958   \n",
       "3  Danny Denzongpa|Gulshan Grover|Milind Soman|Di...            2002   \n",
       "4  Rajniesh Duggall|Adah Sharma|Anjori Alagh|Raj ...            2008   \n",
       "5  Sharman Joshi|Meera Chopra|Vishal Karwal|Suren...            2016   \n",
       "\n",
       "   imdb_rating runtime                                        poster_path  \n",
       "1          6.6     161  https://upload.wikimedia.org/wikipedia/en/thum...  \n",
       "2          7.0     132  https://upload.wikimedia.org/wikipedia/en/thum...  \n",
       "3          6.9     158  https://upload.wikimedia.org/wikipedia/en/thum...  \n",
       "4          6.4     138  https://upload.wikimedia.org/wikipedia/en/thum...  \n",
       "5          4.1     120  https://upload.wikimedia.org/wikipedia/en/thum...  "
      ]
     },
     "execution_count": 328,
     "metadata": {},
     "output_type": "execute_result"
    }
   ],
   "source": [
    "movies.head()"
   ]
  },
  {
   "cell_type": "code",
   "execution_count": 329,
   "id": "e490bac7-9c48-4197-a5ba-3c81f0a53d9b",
   "metadata": {},
   "outputs": [
    {
     "data": {
      "text/plain": [
       "(3525, 8)"
      ]
     },
     "execution_count": 329,
     "metadata": {},
     "output_type": "execute_result"
    }
   ],
   "source": [
    "movies.shape"
   ]
  },
  {
   "cell_type": "code",
   "execution_count": 330,
   "id": "8f795cf3-fbd0-484a-9f95-49955f933e4d",
   "metadata": {},
   "outputs": [],
   "source": [
    "movies = movies.reset_index()\n"
   ]
  },
  {
   "cell_type": "code",
   "execution_count": 331,
   "id": "1c041f89-2404-402b-84b6-36a02686eb3b",
   "metadata": {},
   "outputs": [
    {
     "data": {
      "text/html": [
       "<div>\n",
       "<style scoped>\n",
       "    .dataframe tbody tr th:only-of-type {\n",
       "        vertical-align: middle;\n",
       "    }\n",
       "\n",
       "    .dataframe tbody tr th {\n",
       "        vertical-align: top;\n",
       "    }\n",
       "\n",
       "    .dataframe thead th {\n",
       "        text-align: right;\n",
       "    }\n",
       "</style>\n",
       "<table border=\"1\" class=\"dataframe\">\n",
       "  <thead>\n",
       "    <tr style=\"text-align: right;\">\n",
       "      <th></th>\n",
       "      <th>index</th>\n",
       "      <th>imdb_id</th>\n",
       "      <th>title_x</th>\n",
       "      <th>genres</th>\n",
       "      <th>actors</th>\n",
       "      <th>year_of_release</th>\n",
       "      <th>imdb_rating</th>\n",
       "      <th>runtime</th>\n",
       "      <th>poster_path</th>\n",
       "    </tr>\n",
       "  </thead>\n",
       "  <tbody>\n",
       "    <tr>\n",
       "      <th>0</th>\n",
       "      <td>1</td>\n",
       "      <td>tt0101244</td>\n",
       "      <td>100 Days (1991 film)</td>\n",
       "      <td>Horror|Romance|Thriller</td>\n",
       "      <td>Jackie Shroff|Madhuri Dixit|Javed Jaffrey|Laxm...</td>\n",
       "      <td>1991</td>\n",
       "      <td>6.6</td>\n",
       "      <td>161</td>\n",
       "      <td>https://upload.wikimedia.org/wikipedia/en/thum...</td>\n",
       "    </tr>\n",
       "    <tr>\n",
       "      <th>1</th>\n",
       "      <td>2</td>\n",
       "      <td>tt0051335</td>\n",
       "      <td>12 O'Clock (film)</td>\n",
       "      <td>Drama|Mystery|Thriller</td>\n",
       "      <td>Guru Dutt|Waheeda Rehman|Shashikala|Rehman|Joh...</td>\n",
       "      <td>1958</td>\n",
       "      <td>7.0</td>\n",
       "      <td>132</td>\n",
       "      <td>https://upload.wikimedia.org/wikipedia/en/thum...</td>\n",
       "    </tr>\n",
       "    <tr>\n",
       "      <th>2</th>\n",
       "      <td>3</td>\n",
       "      <td>tt0313844</td>\n",
       "      <td>16 December (film)</td>\n",
       "      <td>Action|Thriller</td>\n",
       "      <td>Danny Denzongpa|Gulshan Grover|Milind Soman|Di...</td>\n",
       "      <td>2002</td>\n",
       "      <td>6.9</td>\n",
       "      <td>158</td>\n",
       "      <td>https://upload.wikimedia.org/wikipedia/en/thum...</td>\n",
       "    </tr>\n",
       "    <tr>\n",
       "      <th>3</th>\n",
       "      <td>4</td>\n",
       "      <td>tt1301698</td>\n",
       "      <td>1920 (film)</td>\n",
       "      <td>Horror|Mystery|Romance</td>\n",
       "      <td>Rajniesh Duggall|Adah Sharma|Anjori Alagh|Raj ...</td>\n",
       "      <td>2008</td>\n",
       "      <td>6.4</td>\n",
       "      <td>138</td>\n",
       "      <td>https://upload.wikimedia.org/wikipedia/en/thum...</td>\n",
       "    </tr>\n",
       "    <tr>\n",
       "      <th>4</th>\n",
       "      <td>5</td>\n",
       "      <td>tt5638500</td>\n",
       "      <td>1920: London</td>\n",
       "      <td>Horror|Mystery</td>\n",
       "      <td>Sharman Joshi|Meera Chopra|Vishal Karwal|Suren...</td>\n",
       "      <td>2016</td>\n",
       "      <td>4.1</td>\n",
       "      <td>120</td>\n",
       "      <td>https://upload.wikimedia.org/wikipedia/en/thum...</td>\n",
       "    </tr>\n",
       "  </tbody>\n",
       "</table>\n",
       "</div>"
      ],
      "text/plain": [
       "   index    imdb_id               title_x                   genres  \\\n",
       "0      1  tt0101244  100 Days (1991 film)  Horror|Romance|Thriller   \n",
       "1      2  tt0051335     12 O'Clock (film)   Drama|Mystery|Thriller   \n",
       "2      3  tt0313844    16 December (film)          Action|Thriller   \n",
       "3      4  tt1301698           1920 (film)   Horror|Mystery|Romance   \n",
       "4      5  tt5638500          1920: London           Horror|Mystery   \n",
       "\n",
       "                                              actors year_of_release  \\\n",
       "0  Jackie Shroff|Madhuri Dixit|Javed Jaffrey|Laxm...            1991   \n",
       "1  Guru Dutt|Waheeda Rehman|Shashikala|Rehman|Joh...            1958   \n",
       "2  Danny Denzongpa|Gulshan Grover|Milind Soman|Di...            2002   \n",
       "3  Rajniesh Duggall|Adah Sharma|Anjori Alagh|Raj ...            2008   \n",
       "4  Sharman Joshi|Meera Chopra|Vishal Karwal|Suren...            2016   \n",
       "\n",
       "   imdb_rating runtime                                        poster_path  \n",
       "0          6.6     161  https://upload.wikimedia.org/wikipedia/en/thum...  \n",
       "1          7.0     132  https://upload.wikimedia.org/wikipedia/en/thum...  \n",
       "2          6.9     158  https://upload.wikimedia.org/wikipedia/en/thum...  \n",
       "3          6.4     138  https://upload.wikimedia.org/wikipedia/en/thum...  \n",
       "4          4.1     120  https://upload.wikimedia.org/wikipedia/en/thum...  "
      ]
     },
     "execution_count": 331,
     "metadata": {},
     "output_type": "execute_result"
    }
   ],
   "source": [
    "movies.head()"
   ]
  },
  {
   "cell_type": "code",
   "execution_count": 332,
   "id": "80123d10-78c5-43d0-b09a-c62a8dc6ae09",
   "metadata": {},
   "outputs": [],
   "source": [
    "movies = movies.drop(columns='index')"
   ]
  },
  {
   "cell_type": "code",
   "execution_count": 333,
   "id": "ca6b166e-3e96-441e-b79a-419e71cfa8f1",
   "metadata": {},
   "outputs": [
    {
     "data": {
      "text/plain": [
       "(3525, 8)"
      ]
     },
     "execution_count": 333,
     "metadata": {},
     "output_type": "execute_result"
    }
   ],
   "source": [
    "movies.shape"
   ]
  },
  {
   "cell_type": "code",
   "execution_count": 334,
   "id": "8fa574bf-9196-40cb-9c51-74e8ab61d47b",
   "metadata": {},
   "outputs": [],
   "source": [
    "# movies.tail()"
   ]
  },
  {
   "cell_type": "code",
   "execution_count": 335,
   "id": "08392cb3-cec6-4016-b6bf-87e2bd6a72db",
   "metadata": {},
   "outputs": [],
   "source": [
    "# movies['genres']"
   ]
  },
  {
   "cell_type": "code",
   "execution_count": 336,
   "id": "2513c4b7-b8be-4962-86e6-df88991d531e",
   "metadata": {},
   "outputs": [],
   "source": [
    "# genre = movies['genres']\n",
    "# numpy_array_2d = np.array(genre)\n",
    "# numpy_array_2d\n",
    "# for element in numpy_array_2d:\n",
    "#     string_to_split = numpy_array_2d[element]\n",
    "#     result = string_to_split.split(\"|\")\n",
    "#     print(result)"
   ]
  },
  {
   "cell_type": "code",
   "execution_count": 337,
   "id": "157ab5c8-c2ba-45d6-9acd-201c30382a80",
   "metadata": {},
   "outputs": [],
   "source": [
    "# string_to_split = \"example|string|to|split\"\n",
    "# result = string_to_split.split(\"|\")\n",
    "# print(result)\n"
   ]
  },
  {
   "cell_type": "code",
   "execution_count": 338,
   "id": "beb908a4-355c-4a5b-8285-c39ee161ee70",
   "metadata": {},
   "outputs": [],
   "source": [
    "# movies['genres'][0].replace(\"|\",\",\")"
   ]
  },
  {
   "cell_type": "code",
   "execution_count": 339,
   "id": "b07c47f5-96dd-4504-a1ed-cd9a3facb40f",
   "metadata": {},
   "outputs": [],
   "source": [
    "# movies['actors'][0].replace(\"|\",\",\")"
   ]
  },
  {
   "cell_type": "code",
   "execution_count": 340,
   "id": "7918bec4-011b-4ad2-9031-bc51ea731fff",
   "metadata": {},
   "outputs": [],
   "source": [
    "def convert(obj):\n",
    "    for i in obj:\n",
    "         result = obj.split(\"|\")\n",
    "         return result"
   ]
  },
  {
   "cell_type": "code",
   "execution_count": 341,
   "id": "c21cfcad-a4ca-4d36-80fb-cd702c4216f3",
   "metadata": {},
   "outputs": [],
   "source": [
    "movies['genres'] = movies['genres'].apply(convert)"
   ]
  },
  {
   "cell_type": "code",
   "execution_count": 342,
   "id": "4f2d0bc3-8819-4c94-a0b1-f0e18dc968f2",
   "metadata": {},
   "outputs": [],
   "source": [
    "movies['actors'] = movies['actors'].apply(convert)"
   ]
  },
  {
   "cell_type": "code",
   "execution_count": 343,
   "id": "2d303b9b-6219-4ef0-80bc-f05181babad3",
   "metadata": {},
   "outputs": [
    {
     "data": {
      "text/html": [
       "<div>\n",
       "<style scoped>\n",
       "    .dataframe tbody tr th:only-of-type {\n",
       "        vertical-align: middle;\n",
       "    }\n",
       "\n",
       "    .dataframe tbody tr th {\n",
       "        vertical-align: top;\n",
       "    }\n",
       "\n",
       "    .dataframe thead th {\n",
       "        text-align: right;\n",
       "    }\n",
       "</style>\n",
       "<table border=\"1\" class=\"dataframe\">\n",
       "  <thead>\n",
       "    <tr style=\"text-align: right;\">\n",
       "      <th></th>\n",
       "      <th>imdb_id</th>\n",
       "      <th>title_x</th>\n",
       "      <th>genres</th>\n",
       "      <th>actors</th>\n",
       "      <th>year_of_release</th>\n",
       "      <th>imdb_rating</th>\n",
       "      <th>runtime</th>\n",
       "      <th>poster_path</th>\n",
       "    </tr>\n",
       "  </thead>\n",
       "  <tbody>\n",
       "    <tr>\n",
       "      <th>0</th>\n",
       "      <td>tt0101244</td>\n",
       "      <td>100 Days (1991 film)</td>\n",
       "      <td>[Horror, Romance, Thriller]</td>\n",
       "      <td>[Jackie Shroff, Madhuri Dixit, Javed Jaffrey, ...</td>\n",
       "      <td>1991</td>\n",
       "      <td>6.6</td>\n",
       "      <td>161</td>\n",
       "      <td>https://upload.wikimedia.org/wikipedia/en/thum...</td>\n",
       "    </tr>\n",
       "    <tr>\n",
       "      <th>1</th>\n",
       "      <td>tt0051335</td>\n",
       "      <td>12 O'Clock (film)</td>\n",
       "      <td>[Drama, Mystery, Thriller]</td>\n",
       "      <td>[Guru Dutt, Waheeda Rehman, Shashikala, Rehman...</td>\n",
       "      <td>1958</td>\n",
       "      <td>7.0</td>\n",
       "      <td>132</td>\n",
       "      <td>https://upload.wikimedia.org/wikipedia/en/thum...</td>\n",
       "    </tr>\n",
       "    <tr>\n",
       "      <th>2</th>\n",
       "      <td>tt0313844</td>\n",
       "      <td>16 December (film)</td>\n",
       "      <td>[Action, Thriller]</td>\n",
       "      <td>[Danny Denzongpa, Gulshan Grover, Milind Soman...</td>\n",
       "      <td>2002</td>\n",
       "      <td>6.9</td>\n",
       "      <td>158</td>\n",
       "      <td>https://upload.wikimedia.org/wikipedia/en/thum...</td>\n",
       "    </tr>\n",
       "    <tr>\n",
       "      <th>3</th>\n",
       "      <td>tt1301698</td>\n",
       "      <td>1920 (film)</td>\n",
       "      <td>[Horror, Mystery, Romance]</td>\n",
       "      <td>[Rajniesh Duggall, Adah Sharma, Anjori Alagh, ...</td>\n",
       "      <td>2008</td>\n",
       "      <td>6.4</td>\n",
       "      <td>138</td>\n",
       "      <td>https://upload.wikimedia.org/wikipedia/en/thum...</td>\n",
       "    </tr>\n",
       "    <tr>\n",
       "      <th>4</th>\n",
       "      <td>tt5638500</td>\n",
       "      <td>1920: London</td>\n",
       "      <td>[Horror, Mystery]</td>\n",
       "      <td>[Sharman Joshi, Meera Chopra, Vishal Karwal, S...</td>\n",
       "      <td>2016</td>\n",
       "      <td>4.1</td>\n",
       "      <td>120</td>\n",
       "      <td>https://upload.wikimedia.org/wikipedia/en/thum...</td>\n",
       "    </tr>\n",
       "  </tbody>\n",
       "</table>\n",
       "</div>"
      ],
      "text/plain": [
       "     imdb_id               title_x                       genres  \\\n",
       "0  tt0101244  100 Days (1991 film)  [Horror, Romance, Thriller]   \n",
       "1  tt0051335     12 O'Clock (film)   [Drama, Mystery, Thriller]   \n",
       "2  tt0313844    16 December (film)           [Action, Thriller]   \n",
       "3  tt1301698           1920 (film)   [Horror, Mystery, Romance]   \n",
       "4  tt5638500          1920: London            [Horror, Mystery]   \n",
       "\n",
       "                                              actors year_of_release  \\\n",
       "0  [Jackie Shroff, Madhuri Dixit, Javed Jaffrey, ...            1991   \n",
       "1  [Guru Dutt, Waheeda Rehman, Shashikala, Rehman...            1958   \n",
       "2  [Danny Denzongpa, Gulshan Grover, Milind Soman...            2002   \n",
       "3  [Rajniesh Duggall, Adah Sharma, Anjori Alagh, ...            2008   \n",
       "4  [Sharman Joshi, Meera Chopra, Vishal Karwal, S...            2016   \n",
       "\n",
       "   imdb_rating runtime                                        poster_path  \n",
       "0          6.6     161  https://upload.wikimedia.org/wikipedia/en/thum...  \n",
       "1          7.0     132  https://upload.wikimedia.org/wikipedia/en/thum...  \n",
       "2          6.9     158  https://upload.wikimedia.org/wikipedia/en/thum...  \n",
       "3          6.4     138  https://upload.wikimedia.org/wikipedia/en/thum...  \n",
       "4          4.1     120  https://upload.wikimedia.org/wikipedia/en/thum...  "
      ]
     },
     "execution_count": 343,
     "metadata": {},
     "output_type": "execute_result"
    }
   ],
   "source": [
    "movies.head()"
   ]
  },
  {
   "cell_type": "code",
   "execution_count": 344,
   "id": "dba2eb6c-0d93-4a95-b1c8-e491fb327353",
   "metadata": {},
   "outputs": [],
   "source": [
    "def collapse(L):\n",
    "    L1 = []\n",
    "    for i in L:\n",
    "        L1.append(i.replace(\" \",\"\"))\n",
    "    return L1"
   ]
  },
  {
   "cell_type": "code",
   "execution_count": 345,
   "id": "28b3986c-d1d3-455c-9028-8c212d4c76c1",
   "metadata": {},
   "outputs": [],
   "source": [
    "movies['actors'] = movies['actors'].apply(collapse)"
   ]
  },
  {
   "cell_type": "code",
   "execution_count": 346,
   "id": "d100ceda-6835-477c-8ec3-9a5e57ec7248",
   "metadata": {},
   "outputs": [
    {
     "data": {
      "text/html": [
       "<div>\n",
       "<style scoped>\n",
       "    .dataframe tbody tr th:only-of-type {\n",
       "        vertical-align: middle;\n",
       "    }\n",
       "\n",
       "    .dataframe tbody tr th {\n",
       "        vertical-align: top;\n",
       "    }\n",
       "\n",
       "    .dataframe thead th {\n",
       "        text-align: right;\n",
       "    }\n",
       "</style>\n",
       "<table border=\"1\" class=\"dataframe\">\n",
       "  <thead>\n",
       "    <tr style=\"text-align: right;\">\n",
       "      <th></th>\n",
       "      <th>imdb_id</th>\n",
       "      <th>title_x</th>\n",
       "      <th>genres</th>\n",
       "      <th>actors</th>\n",
       "      <th>year_of_release</th>\n",
       "      <th>imdb_rating</th>\n",
       "      <th>runtime</th>\n",
       "      <th>poster_path</th>\n",
       "    </tr>\n",
       "  </thead>\n",
       "  <tbody>\n",
       "    <tr>\n",
       "      <th>0</th>\n",
       "      <td>tt0101244</td>\n",
       "      <td>100 Days (1991 film)</td>\n",
       "      <td>[Horror, Romance, Thriller]</td>\n",
       "      <td>[JackieShroff, MadhuriDixit, JavedJaffrey, Lax...</td>\n",
       "      <td>1991</td>\n",
       "      <td>6.6</td>\n",
       "      <td>161</td>\n",
       "      <td>https://upload.wikimedia.org/wikipedia/en/thum...</td>\n",
       "    </tr>\n",
       "    <tr>\n",
       "      <th>1</th>\n",
       "      <td>tt0051335</td>\n",
       "      <td>12 O'Clock (film)</td>\n",
       "      <td>[Drama, Mystery, Thriller]</td>\n",
       "      <td>[GuruDutt, WaheedaRehman, Shashikala, Rehman, ...</td>\n",
       "      <td>1958</td>\n",
       "      <td>7.0</td>\n",
       "      <td>132</td>\n",
       "      <td>https://upload.wikimedia.org/wikipedia/en/thum...</td>\n",
       "    </tr>\n",
       "    <tr>\n",
       "      <th>2</th>\n",
       "      <td>tt0313844</td>\n",
       "      <td>16 December (film)</td>\n",
       "      <td>[Action, Thriller]</td>\n",
       "      <td>[DannyDenzongpa, GulshanGrover, MilindSoman, D...</td>\n",
       "      <td>2002</td>\n",
       "      <td>6.9</td>\n",
       "      <td>158</td>\n",
       "      <td>https://upload.wikimedia.org/wikipedia/en/thum...</td>\n",
       "    </tr>\n",
       "    <tr>\n",
       "      <th>3</th>\n",
       "      <td>tt1301698</td>\n",
       "      <td>1920 (film)</td>\n",
       "      <td>[Horror, Mystery, Romance]</td>\n",
       "      <td>[RajnieshDuggall, AdahSharma, AnjoriAlagh, Raj...</td>\n",
       "      <td>2008</td>\n",
       "      <td>6.4</td>\n",
       "      <td>138</td>\n",
       "      <td>https://upload.wikimedia.org/wikipedia/en/thum...</td>\n",
       "    </tr>\n",
       "    <tr>\n",
       "      <th>4</th>\n",
       "      <td>tt5638500</td>\n",
       "      <td>1920: London</td>\n",
       "      <td>[Horror, Mystery]</td>\n",
       "      <td>[SharmanJoshi, MeeraChopra, VishalKarwal, Sure...</td>\n",
       "      <td>2016</td>\n",
       "      <td>4.1</td>\n",
       "      <td>120</td>\n",
       "      <td>https://upload.wikimedia.org/wikipedia/en/thum...</td>\n",
       "    </tr>\n",
       "  </tbody>\n",
       "</table>\n",
       "</div>"
      ],
      "text/plain": [
       "     imdb_id               title_x                       genres  \\\n",
       "0  tt0101244  100 Days (1991 film)  [Horror, Romance, Thriller]   \n",
       "1  tt0051335     12 O'Clock (film)   [Drama, Mystery, Thriller]   \n",
       "2  tt0313844    16 December (film)           [Action, Thriller]   \n",
       "3  tt1301698           1920 (film)   [Horror, Mystery, Romance]   \n",
       "4  tt5638500          1920: London            [Horror, Mystery]   \n",
       "\n",
       "                                              actors year_of_release  \\\n",
       "0  [JackieShroff, MadhuriDixit, JavedJaffrey, Lax...            1991   \n",
       "1  [GuruDutt, WaheedaRehman, Shashikala, Rehman, ...            1958   \n",
       "2  [DannyDenzongpa, GulshanGrover, MilindSoman, D...            2002   \n",
       "3  [RajnieshDuggall, AdahSharma, AnjoriAlagh, Raj...            2008   \n",
       "4  [SharmanJoshi, MeeraChopra, VishalKarwal, Sure...            2016   \n",
       "\n",
       "   imdb_rating runtime                                        poster_path  \n",
       "0          6.6     161  https://upload.wikimedia.org/wikipedia/en/thum...  \n",
       "1          7.0     132  https://upload.wikimedia.org/wikipedia/en/thum...  \n",
       "2          6.9     158  https://upload.wikimedia.org/wikipedia/en/thum...  \n",
       "3          6.4     138  https://upload.wikimedia.org/wikipedia/en/thum...  \n",
       "4          4.1     120  https://upload.wikimedia.org/wikipedia/en/thum...  "
      ]
     },
     "execution_count": 346,
     "metadata": {},
     "output_type": "execute_result"
    }
   ],
   "source": [
    "movies.head()"
   ]
  },
  {
   "cell_type": "code",
   "execution_count": 351,
   "id": "25154435-f546-40ee-95e4-df347617b1ac",
   "metadata": {},
   "outputs": [],
   "source": [
    "movies['tags'] =  movies['genres'] + movies['actors']"
   ]
  },
  {
   "cell_type": "code",
   "execution_count": 352,
   "id": "f0610c8f-b233-4044-af4d-2f75ebadef95",
   "metadata": {},
   "outputs": [
    {
     "data": {
      "text/html": [
       "<div>\n",
       "<style scoped>\n",
       "    .dataframe tbody tr th:only-of-type {\n",
       "        vertical-align: middle;\n",
       "    }\n",
       "\n",
       "    .dataframe tbody tr th {\n",
       "        vertical-align: top;\n",
       "    }\n",
       "\n",
       "    .dataframe thead th {\n",
       "        text-align: right;\n",
       "    }\n",
       "</style>\n",
       "<table border=\"1\" class=\"dataframe\">\n",
       "  <thead>\n",
       "    <tr style=\"text-align: right;\">\n",
       "      <th></th>\n",
       "      <th>imdb_id</th>\n",
       "      <th>title_x</th>\n",
       "      <th>genres</th>\n",
       "      <th>actors</th>\n",
       "      <th>year_of_release</th>\n",
       "      <th>imdb_rating</th>\n",
       "      <th>runtime</th>\n",
       "      <th>poster_path</th>\n",
       "      <th>tags</th>\n",
       "    </tr>\n",
       "  </thead>\n",
       "  <tbody>\n",
       "    <tr>\n",
       "      <th>0</th>\n",
       "      <td>tt0101244</td>\n",
       "      <td>100 Days (1991 film)</td>\n",
       "      <td>[Horror, Romance, Thriller]</td>\n",
       "      <td>[JackieShroff, MadhuriDixit, JavedJaffrey, Lax...</td>\n",
       "      <td>1991</td>\n",
       "      <td>6.6</td>\n",
       "      <td>161</td>\n",
       "      <td>https://upload.wikimedia.org/wikipedia/en/thum...</td>\n",
       "      <td>[Horror, Romance, Thriller, JackieShroff, Madh...</td>\n",
       "    </tr>\n",
       "    <tr>\n",
       "      <th>1</th>\n",
       "      <td>tt0051335</td>\n",
       "      <td>12 O'Clock (film)</td>\n",
       "      <td>[Drama, Mystery, Thriller]</td>\n",
       "      <td>[GuruDutt, WaheedaRehman, Shashikala, Rehman, ...</td>\n",
       "      <td>1958</td>\n",
       "      <td>7.0</td>\n",
       "      <td>132</td>\n",
       "      <td>https://upload.wikimedia.org/wikipedia/en/thum...</td>\n",
       "      <td>[Drama, Mystery, Thriller, GuruDutt, WaheedaRe...</td>\n",
       "    </tr>\n",
       "    <tr>\n",
       "      <th>2</th>\n",
       "      <td>tt0313844</td>\n",
       "      <td>16 December (film)</td>\n",
       "      <td>[Action, Thriller]</td>\n",
       "      <td>[DannyDenzongpa, GulshanGrover, MilindSoman, D...</td>\n",
       "      <td>2002</td>\n",
       "      <td>6.9</td>\n",
       "      <td>158</td>\n",
       "      <td>https://upload.wikimedia.org/wikipedia/en/thum...</td>\n",
       "      <td>[Action, Thriller, DannyDenzongpa, GulshanGrov...</td>\n",
       "    </tr>\n",
       "    <tr>\n",
       "      <th>3</th>\n",
       "      <td>tt1301698</td>\n",
       "      <td>1920 (film)</td>\n",
       "      <td>[Horror, Mystery, Romance]</td>\n",
       "      <td>[RajnieshDuggall, AdahSharma, AnjoriAlagh, Raj...</td>\n",
       "      <td>2008</td>\n",
       "      <td>6.4</td>\n",
       "      <td>138</td>\n",
       "      <td>https://upload.wikimedia.org/wikipedia/en/thum...</td>\n",
       "      <td>[Horror, Mystery, Romance, RajnieshDuggall, Ad...</td>\n",
       "    </tr>\n",
       "    <tr>\n",
       "      <th>4</th>\n",
       "      <td>tt5638500</td>\n",
       "      <td>1920: London</td>\n",
       "      <td>[Horror, Mystery]</td>\n",
       "      <td>[SharmanJoshi, MeeraChopra, VishalKarwal, Sure...</td>\n",
       "      <td>2016</td>\n",
       "      <td>4.1</td>\n",
       "      <td>120</td>\n",
       "      <td>https://upload.wikimedia.org/wikipedia/en/thum...</td>\n",
       "      <td>[Horror, Mystery, SharmanJoshi, MeeraChopra, V...</td>\n",
       "    </tr>\n",
       "  </tbody>\n",
       "</table>\n",
       "</div>"
      ],
      "text/plain": [
       "     imdb_id               title_x                       genres  \\\n",
       "0  tt0101244  100 Days (1991 film)  [Horror, Romance, Thriller]   \n",
       "1  tt0051335     12 O'Clock (film)   [Drama, Mystery, Thriller]   \n",
       "2  tt0313844    16 December (film)           [Action, Thriller]   \n",
       "3  tt1301698           1920 (film)   [Horror, Mystery, Romance]   \n",
       "4  tt5638500          1920: London            [Horror, Mystery]   \n",
       "\n",
       "                                              actors year_of_release  \\\n",
       "0  [JackieShroff, MadhuriDixit, JavedJaffrey, Lax...            1991   \n",
       "1  [GuruDutt, WaheedaRehman, Shashikala, Rehman, ...            1958   \n",
       "2  [DannyDenzongpa, GulshanGrover, MilindSoman, D...            2002   \n",
       "3  [RajnieshDuggall, AdahSharma, AnjoriAlagh, Raj...            2008   \n",
       "4  [SharmanJoshi, MeeraChopra, VishalKarwal, Sure...            2016   \n",
       "\n",
       "   imdb_rating runtime                                        poster_path  \\\n",
       "0          6.6     161  https://upload.wikimedia.org/wikipedia/en/thum...   \n",
       "1          7.0     132  https://upload.wikimedia.org/wikipedia/en/thum...   \n",
       "2          6.9     158  https://upload.wikimedia.org/wikipedia/en/thum...   \n",
       "3          6.4     138  https://upload.wikimedia.org/wikipedia/en/thum...   \n",
       "4          4.1     120  https://upload.wikimedia.org/wikipedia/en/thum...   \n",
       "\n",
       "                                                tags  \n",
       "0  [Horror, Romance, Thriller, JackieShroff, Madh...  \n",
       "1  [Drama, Mystery, Thriller, GuruDutt, WaheedaRe...  \n",
       "2  [Action, Thriller, DannyDenzongpa, GulshanGrov...  \n",
       "3  [Horror, Mystery, Romance, RajnieshDuggall, Ad...  \n",
       "4  [Horror, Mystery, SharmanJoshi, MeeraChopra, V...  "
      ]
     },
     "execution_count": 352,
     "metadata": {},
     "output_type": "execute_result"
    }
   ],
   "source": [
    "movies.head()"
   ]
  },
  {
   "cell_type": "code",
   "execution_count": 353,
   "id": "125eb145-0a96-4320-88dd-ad1780c62b39",
   "metadata": {},
   "outputs": [
    {
     "data": {
      "text/html": [
       "<div>\n",
       "<style scoped>\n",
       "    .dataframe tbody tr th:only-of-type {\n",
       "        vertical-align: middle;\n",
       "    }\n",
       "\n",
       "    .dataframe tbody tr th {\n",
       "        vertical-align: top;\n",
       "    }\n",
       "\n",
       "    .dataframe thead th {\n",
       "        text-align: right;\n",
       "    }\n",
       "</style>\n",
       "<table border=\"1\" class=\"dataframe\">\n",
       "  <thead>\n",
       "    <tr style=\"text-align: right;\">\n",
       "      <th></th>\n",
       "      <th>imdb_id</th>\n",
       "      <th>title_x</th>\n",
       "      <th>genres</th>\n",
       "      <th>actors</th>\n",
       "      <th>year_of_release</th>\n",
       "      <th>imdb_rating</th>\n",
       "      <th>runtime</th>\n",
       "      <th>poster_path</th>\n",
       "      <th>tags</th>\n",
       "    </tr>\n",
       "  </thead>\n",
       "  <tbody>\n",
       "    <tr>\n",
       "      <th>3520</th>\n",
       "      <td>tt1605790</td>\n",
       "      <td>Zokkomon</td>\n",
       "      <td>[Action, Adventure]</td>\n",
       "      <td>[DarsheelSafary, AnupamKher, ManjariFadnnis, T...</td>\n",
       "      <td>2011</td>\n",
       "      <td>4.0</td>\n",
       "      <td>109</td>\n",
       "      <td>https://upload.wikimedia.org/wikipedia/en/thum...</td>\n",
       "      <td>[Action, Adventure, DarsheelSafary, AnupamKher...</td>\n",
       "    </tr>\n",
       "    <tr>\n",
       "      <th>3521</th>\n",
       "      <td>tt0264210</td>\n",
       "      <td>Zor (film)</td>\n",
       "      <td>[Action, Drama, Thriller]</td>\n",
       "      <td>[SunnyDeol, SushmitaSen, MilindGunaji, OmPuri,...</td>\n",
       "      <td>1998</td>\n",
       "      <td>4.4</td>\n",
       "      <td>157</td>\n",
       "      <td>https://upload.wikimedia.org/wikipedia/en/thum...</td>\n",
       "      <td>[Action, Drama, Thriller, SunnyDeol, SushmitaS...</td>\n",
       "    </tr>\n",
       "    <tr>\n",
       "      <th>3522</th>\n",
       "      <td>tt1479857</td>\n",
       "      <td>Zor Lagaa Ke...Haiya!</td>\n",
       "      <td>[Comedy, Drama, Family]</td>\n",
       "      <td>[MeghanJadhav, MithunChakraborty, RiyaSen, See...</td>\n",
       "      <td>2009</td>\n",
       "      <td>6.4</td>\n",
       "      <td>\\N</td>\n",
       "      <td>https://upload.wikimedia.org/wikipedia/en/thum...</td>\n",
       "      <td>[Comedy, Drama, Family, MeghanJadhav, MithunCh...</td>\n",
       "    </tr>\n",
       "    <tr>\n",
       "      <th>3523</th>\n",
       "      <td>tt0255713</td>\n",
       "      <td>Zubeidaa</td>\n",
       "      <td>[Biography, Drama, History]</td>\n",
       "      <td>[KarismaKapoor, Rekha, ManojBajpayee, RajitKap...</td>\n",
       "      <td>2001</td>\n",
       "      <td>6.2</td>\n",
       "      <td>153</td>\n",
       "      <td>https://upload.wikimedia.org/wikipedia/en/thum...</td>\n",
       "      <td>[Biography, Drama, History, KarismaKapoor, Rek...</td>\n",
       "    </tr>\n",
       "    <tr>\n",
       "      <th>3524</th>\n",
       "      <td>tt0282275</td>\n",
       "      <td>Zulmi</td>\n",
       "      <td>[Action, Drama]</td>\n",
       "      <td>[AkshayKumar, TwinkleKhanna, ArunaIrani, DaraS...</td>\n",
       "      <td>1999</td>\n",
       "      <td>4.6</td>\n",
       "      <td>129</td>\n",
       "      <td>https://upload.wikimedia.org/wikipedia/en/thum...</td>\n",
       "      <td>[Action, Drama, AkshayKumar, TwinkleKhanna, Ar...</td>\n",
       "    </tr>\n",
       "  </tbody>\n",
       "</table>\n",
       "</div>"
      ],
      "text/plain": [
       "        imdb_id                title_x                       genres  \\\n",
       "3520  tt1605790               Zokkomon          [Action, Adventure]   \n",
       "3521  tt0264210             Zor (film)    [Action, Drama, Thriller]   \n",
       "3522  tt1479857  Zor Lagaa Ke...Haiya!      [Comedy, Drama, Family]   \n",
       "3523  tt0255713               Zubeidaa  [Biography, Drama, History]   \n",
       "3524  tt0282275                  Zulmi              [Action, Drama]   \n",
       "\n",
       "                                                 actors year_of_release  \\\n",
       "3520  [DarsheelSafary, AnupamKher, ManjariFadnnis, T...            2011   \n",
       "3521  [SunnyDeol, SushmitaSen, MilindGunaji, OmPuri,...            1998   \n",
       "3522  [MeghanJadhav, MithunChakraborty, RiyaSen, See...            2009   \n",
       "3523  [KarismaKapoor, Rekha, ManojBajpayee, RajitKap...            2001   \n",
       "3524  [AkshayKumar, TwinkleKhanna, ArunaIrani, DaraS...            1999   \n",
       "\n",
       "      imdb_rating runtime                                        poster_path  \\\n",
       "3520          4.0     109  https://upload.wikimedia.org/wikipedia/en/thum...   \n",
       "3521          4.4     157  https://upload.wikimedia.org/wikipedia/en/thum...   \n",
       "3522          6.4      \\N  https://upload.wikimedia.org/wikipedia/en/thum...   \n",
       "3523          6.2     153  https://upload.wikimedia.org/wikipedia/en/thum...   \n",
       "3524          4.6     129  https://upload.wikimedia.org/wikipedia/en/thum...   \n",
       "\n",
       "                                                   tags  \n",
       "3520  [Action, Adventure, DarsheelSafary, AnupamKher...  \n",
       "3521  [Action, Drama, Thriller, SunnyDeol, SushmitaS...  \n",
       "3522  [Comedy, Drama, Family, MeghanJadhav, MithunCh...  \n",
       "3523  [Biography, Drama, History, KarismaKapoor, Rek...  \n",
       "3524  [Action, Drama, AkshayKumar, TwinkleKhanna, Ar...  "
      ]
     },
     "execution_count": 353,
     "metadata": {},
     "output_type": "execute_result"
    }
   ],
   "source": [
    "# movies['tags'] = movies['tags'].apply(lambda x: \" \".join(x))\n",
    "movies.head()\n",
    "movies.tail()"
   ]
  },
  {
   "cell_type": "code",
   "execution_count": 354,
   "id": "83df83bc-74c3-44ad-9a1f-58f9ee60d45b",
   "metadata": {},
   "outputs": [],
   "source": [
    "from sklearn.feature_extraction.text import CountVectorizer\n",
    "cv = CountVectorizer(max_features=5000,stop_words='english')"
   ]
  },
  {
   "cell_type": "code",
   "execution_count": 355,
   "id": "15abd540-7f2f-4eda-ad53-d71f1e6baea3",
   "metadata": {},
   "outputs": [],
   "source": [
    "movies['tags'] = movies['tags'].apply(lambda x: ' '.join(x))\n",
    "vector = cv.fit_transform(movies['tags']).toarray()"
   ]
  },
  {
   "cell_type": "code",
   "execution_count": 356,
   "id": "5b6e61ad-5a6f-44b9-93fd-1b2cfed3db81",
   "metadata": {},
   "outputs": [
    {
     "data": {
      "text/plain": [
       "(3525, 5000)"
      ]
     },
     "execution_count": 356,
     "metadata": {},
     "output_type": "execute_result"
    }
   ],
   "source": [
    "vector.shape"
   ]
  },
  {
   "cell_type": "code",
   "execution_count": 357,
   "id": "11b9f907-599a-4547-9c75-7f74e8c2ff3a",
   "metadata": {},
   "outputs": [],
   "source": [
    "from sklearn.metrics.pairwise import cosine_similarity"
   ]
  },
  {
   "cell_type": "code",
   "execution_count": 358,
   "id": "48ff9cb5-e2d5-4b18-b801-e0b506c158a7",
   "metadata": {},
   "outputs": [],
   "source": [
    "similarity = cosine_similarity(vector)\n",
    "# similarity"
   ]
  },
  {
   "cell_type": "code",
   "execution_count": 359,
   "id": "cfb0e336-d998-4262-a3a1-6a644d25a0c4",
   "metadata": {},
   "outputs": [
    {
     "data": {
      "text/plain": [
       "2725"
      ]
     },
     "execution_count": 359,
     "metadata": {},
     "output_type": "execute_result"
    }
   ],
   "source": [
    "movies[movies['title_x'] == 'Raja Hindustani'].index[0]"
   ]
  },
  {
   "cell_type": "code",
   "execution_count": 360,
   "id": "884ca74e-7881-4640-8c29-0a7d1707e7ce",
   "metadata": {},
   "outputs": [],
   "source": [
    "# movies.head(350)"
   ]
  },
  {
   "cell_type": "code",
   "execution_count": 361,
   "id": "94b88643-024d-4b08-b8f4-1e4bc1094d31",
   "metadata": {},
   "outputs": [],
   "source": [
    "def recommend(movie):\n",
    "    # print(movie)\n",
    "    index = movies[movies['title_x'] == movie].index[0]\n",
    "    print()\n",
    "    # print(index)\n",
    "    distances = sorted(list(enumerate(similarity[index])),reverse=True,key = lambda x: x[1])\n",
    "    # print(distances)\n",
    "    # print(type(distances))\n",
    "    for i in distances[0:6]:\n",
    "        print(movies.iloc[i[0]].title_x)\n",
    "        # print(movies.iloc[i[0]].actors)\n",
    "        # print(movies.iloc[i[0]].genres[1:4])\n",
    "        # print(movies.iloc[i[0]].imdb_rating)\n",
    "        # print(movies.iloc[i[0]].runtime)\n",
    "        # print(movies.iloc[i[0]].year_of_release)\n",
    "        # return (movies.iloc[i[0]].actors[1:4])\n",
    "\n",
    "        \n",
    "        "
   ]
  },
  {
   "cell_type": "code",
   "execution_count": 362,
   "id": "3971af9b-2a1d-40b0-a67d-2ba99f5e460e",
   "metadata": {},
   "outputs": [],
   "source": [
    "# def current(movie):\n",
    "#     # print(movie)\n",
    "#     index = movies[movies['title_x'] == movie].index[0]\n",
    "#     movies[movies['genres']].index[0]\n",
    "    "
   ]
  },
  {
   "cell_type": "code",
   "execution_count": 363,
   "id": "6a6788f2-2126-487b-b68f-fb8347523ee8",
   "metadata": {},
   "outputs": [
    {
     "name": "stdout",
     "output_type": "stream",
     "text": [
      "\n",
      "Zulmi\n",
      "Itihaas (1997 film)\n",
      "Ajnabee (2001 film)\n",
      "Khushi (2003 Hindi film)\n",
      "Suhaag (1994 film)\n",
      "Madadgaar\n"
     ]
    }
   ],
   "source": [
    "recommend('Zulmi')\n",
    "# current('Fraud Saiyaan')\n",
    "# print(str(hello)[1:-1])"
   ]
  },
  {
   "cell_type": "code",
   "execution_count": 364,
   "id": "ea6135c6-7a30-4afd-9ef4-7c194535c64d",
   "metadata": {},
   "outputs": [],
   "source": [
    "import pickle"
   ]
  },
  {
   "cell_type": "code",
   "execution_count": 365,
   "id": "ee6aa152-81a9-4d1b-ad44-a7954b42764a",
   "metadata": {},
   "outputs": [],
   "source": [
    "pickle.dump(movies,open('movie_list.pkl','wb'))\n",
    "pickle.dump(similarity,open('similarity.pkl','wb'))"
   ]
  }
 ],
 "metadata": {
  "kernelspec": {
   "display_name": "Python 3 (ipykernel)",
   "language": "python",
   "name": "python3"
  },
  "language_info": {
   "codemirror_mode": {
    "name": "ipython",
    "version": 3
   },
   "file_extension": ".py",
   "mimetype": "text/x-python",
   "name": "python",
   "nbconvert_exporter": "python",
   "pygments_lexer": "ipython3",
   "version": "3.12.0"
  }
 },
 "nbformat": 4,
 "nbformat_minor": 5
}
